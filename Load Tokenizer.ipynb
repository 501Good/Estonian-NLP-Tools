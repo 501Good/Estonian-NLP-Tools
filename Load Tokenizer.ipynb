{
 "cells": [
  {
   "cell_type": "code",
   "execution_count": 1,
   "metadata": {},
   "outputs": [],
   "source": [
    "import torch\n",
    "import torch.optim as optim\n",
    "import torch.nn as nn\n",
    "import torchvision\n",
    "import torchvision.transforms as transforms\n",
    "import torch.nn.functional as F\n",
    "from torchtext import data\n",
    "from torch import autograd\n",
    "from torch import tensor\n",
    "import sys, traceback\n",
    "import pickle\n",
    "from tqdm import tqdm\n",
    "device = torch.device('cuda' if torch.cuda.is_available() else 'cpu')"
   ]
  },
  {
   "cell_type": "code",
   "execution_count": 2,
   "metadata": {},
   "outputs": [],
   "source": [
    "class LSTMTagger(nn.Module):\n",
    "\n",
    "    def __init__(self, embedding_dim, hidden_dim, vocab_size, tagset_size):\n",
    "        super(LSTMTagger, self).__init__()\n",
    "        self.hidden_dim = hidden_dim\n",
    "\n",
    "        self.char_embeddings = nn.Embedding(vocab_size, embedding_dim)\n",
    "\n",
    "        # The LSTM takes word embeddings as inputs, and outputs hidden states\n",
    "        # with dimensionality hidden_dim.\n",
    "        self.lstm = nn.LSTM(embedding_dim, hidden_dim, bidirectional=True, batch_first=True)\n",
    "\n",
    "        # The linear layer that maps from hidden state space to tag space\n",
    "        self.hidden2tag = nn.Linear(hidden_dim * 2, tagset_size)\n",
    "\n",
    "    def forward(self, sentence, lengths):\n",
    "        embeds = self.char_embeddings(sentence)\n",
    "        lengths = lengths.reshape(-1)\n",
    "        embeds_pack = torch.nn.utils.rnn.pack_padded_sequence(embeds, lengths, batch_first=True)\n",
    "        lstm_pack_out, _ = self.lstm(embeds_pack)\n",
    "        lstm_out, _ = torch.nn.utils.rnn.pad_packed_sequence(lstm_pack_out, batch_first=True)\n",
    "        tag_space = self.hidden2tag(lstm_out)\n",
    "        return tag_space"
   ]
  },
  {
   "cell_type": "code",
   "execution_count": 3,
   "metadata": {},
   "outputs": [],
   "source": [
    "class EstTokenizer:\n",
    "    \n",
    "    def __init__(self, PATH):\n",
    "        self.TEXT = pickle.load(open('TEXT.pkl', 'rb'))\n",
    "        self.LABELS = pickle.load(open('LABELS.pkl', 'rb'))\n",
    "        self.BATCH_SIZE = 1\n",
    "        self.INPUT_DIM = len(self.TEXT.vocab)\n",
    "        self.EMBEDDING_DIM = 100\n",
    "        self.HIDDEN_DIM = 256\n",
    "        self.OUTPUT_DIM = len(self.LABELS.vocab)\n",
    "        \n",
    "        self.criterion = nn.CrossEntropyLoss()\n",
    "        self.criterion = self.criterion.to(device)\n",
    "        \n",
    "        self.PATH = PATH\n",
    "        self.model = LSTMTagger(self.EMBEDDING_DIM, self.HIDDEN_DIM, self.INPUT_DIM, self.OUTPUT_DIM)\n",
    "        self.model.load_state_dict(torch.load(PATH))\n",
    "        self.model.to(device)\n",
    "        self.model.eval()\n",
    "        \n",
    "        \n",
    "    def __binary_accuracy(self, preds, y):\n",
    "        \"\"\"\n",
    "        Returns accuracy per batch, i.e. if you get 8/10 right, this returns 0.8, NOT 8\n",
    "        \"\"\"\n",
    "\n",
    "        #round predictions to the closest integer\n",
    "        _, rounded_preds = torch.max(torch.sigmoid(preds), 1)\n",
    "        correct = (rounded_preds == y).float() #convert into float for division \n",
    "        acc = correct.sum()/len(correct)\n",
    "        return acc\n",
    "    \n",
    "    \n",
    "    def evaluate(self, iterator):\n",
    "\n",
    "        epoch_loss = 0\n",
    "        epoch_acc = 0\n",
    "\n",
    "        self.model.eval()\n",
    "\n",
    "        with torch.no_grad():\n",
    "\n",
    "            for batch in iterator:\n",
    "\n",
    "                t, l = batch.text\n",
    "\n",
    "                predictions = self.model(t, l)            \n",
    "                #predictions = torch.argmax(predictions, dim=2)            \n",
    "                predictions = predictions.reshape(-1, predictions.size()[-1])            \n",
    "                predictions = predictions.float()\n",
    "\n",
    "                labels = batch.labels.reshape(-1)\n",
    "                labels = labels.long()\n",
    "\n",
    "                loss = self.criterion(predictions, labels)            \n",
    "                acc = self.__binary_accuracy(predictions, labels)\n",
    "\n",
    "                epoch_loss += loss.item()\n",
    "                epoch_acc += acc.item()\n",
    "\n",
    "        return epoch_loss / len(iterator), epoch_acc / len(iterator)\n",
    "    \n",
    "    \n",
    "    def tokenize(self, text, output='conllu'):\n",
    "        text = [t for t in text.split(\"\\n\") if len(t) > 0]\n",
    "        examples = [data.Example().fromlist([t], fields=[('text', self.TEXT)]) for t in text]\n",
    "        dataset = data.Dataset(examples, fields=[('text', self.TEXT)])\n",
    "        data_iter = data.BucketIterator(dataset, \n",
    "            batch_size=self.BATCH_SIZE,\n",
    "            sort_key=lambda x: len(x.text),\n",
    "            sort_within_batch=True,\n",
    "            shuffle=False,\n",
    "            device=device)\n",
    "        \n",
    "        with torch.no_grad():\n",
    "            preds = []\n",
    "            for batch in data_iter:\n",
    "                t, l = batch.text\n",
    "                predictions = self.model(t, l)           \n",
    "                predictions = predictions.float()\n",
    "                _, rounded_preds = torch.max(torch.sigmoid(predictions), 2)\n",
    "                preds.append(rounded_preds)\n",
    "\n",
    "        sents = []\n",
    "        tokens = []\n",
    "        for item in list(zip(text, preds[::-1])):\n",
    "            text = item[0]\n",
    "            tags = item[1]\n",
    "            token = ''\n",
    "            for i in tqdm(range(len(tags[0]))):\n",
    "                if int(tags[0][i]) == 0:\n",
    "                    token += text[i]\n",
    "                elif int(tags[0][i]) == 1:\n",
    "                    token += text[i]\n",
    "                    if output == 'conllu':\n",
    "                        space_after = 1 if text[i + 1] == ' ' else 0\n",
    "                        tokens.append((token.strip(), space_after))\n",
    "                    else:\n",
    "                        tokens.append(token.strip())\n",
    "                    token = ''\n",
    "                else:\n",
    "                    token += text[i]\n",
    "                    if output == 'conllu':\n",
    "                        tokens.append((token.strip(), 0))\n",
    "                    else:\n",
    "                        tokens.append(token.strip())\n",
    "                    token = ''\n",
    "                    sents.append(tokens)\n",
    "                    tokens = []\n",
    "        return sents"
   ]
  },
  {
   "cell_type": "code",
   "execution_count": 4,
   "metadata": {},
   "outputs": [],
   "source": [
    "PATH = 'pytorch_tokenizer_3_tags_v23_earlystop.pt'\n",
    "est_tokenizer = EstTokenizer(PATH)"
   ]
  },
  {
   "cell_type": "code",
   "execution_count": 5,
   "metadata": {},
   "outputs": [
    {
     "name": "stderr",
     "output_type": "stream",
     "text": [
      "100%|████████████████████████████████████████████████████████████████████████| 310553/310553 [00:44<00:00, 6931.50it/s]\n"
     ]
    }
   ],
   "source": [
    "test = open('est_tokenization/test_sents_v2.3.txt', encoding='utf-8').read()\n",
    "sents = est_tokenizer.tokenize(test)"
   ]
  },
  {
   "cell_type": "code",
   "execution_count": null,
   "metadata": {},
   "outputs": [],
   "source": [
    "with open('lstm_tokenization_output_v23.txt', 'w', encoding='utf-8') as f:\n",
    "    for sent in sents:\n",
    "        f.write('\\n'.join(sent))\n",
    "        f.write('\\n\\n')"
   ]
  },
  {
   "cell_type": "code",
   "execution_count": 6,
   "metadata": {},
   "outputs": [
    {
     "data": {
      "text/plain": [
       "[('Palju', 1),\n",
       " ('olulisi', 1),\n",
       " ('komponente', 0),\n",
       " (',', 1),\n",
       " ('nagu', 1),\n",
       " ('liha', 1),\n",
       " ('ja', 1),\n",
       " ('kala', 0),\n",
       " (',', 1),\n",
       " ('hangime', 1),\n",
       " ('siiski', 1),\n",
       " ('Eestist', 0),\n",
       " ('.', 0)]"
      ]
     },
     "execution_count": 6,
     "metadata": {},
     "output_type": "execute_result"
    }
   ],
   "source": [
    "sents[0]"
   ]
  },
  {
   "cell_type": "code",
   "execution_count": 7,
   "metadata": {},
   "outputs": [],
   "source": [
    "def write_conllu(sents, filename='lstm_tokenizer_output.conllu'):\n",
    "    with open(filename, 'w', encoding='utf-8') as f:\n",
    "        for s_id, sent in enumerate(sents):\n",
    "            sent_text = ''\n",
    "            token_lines = []\n",
    "            for i, token_info in enumerate(sent):\n",
    "                token, space_after = token_info[0], token_info[1]\n",
    "                if space_after == 1:\n",
    "                    sent_text += token + ' '\n",
    "                    token_line = '{}\\t{}\\t_\\t_\\t_\\t_\\t_\\t_\\t_\\t_'.format(i + 1, token)\n",
    "                    token_lines.append(token_line)\n",
    "                else:\n",
    "                    sent_text += token\n",
    "                    token_line = '{}\\t{}\\t_\\t_\\t_\\t_\\t_\\t_\\t_\\tSpaceAfter=No'.format(i + 1, token)\n",
    "                    token_lines.append(token_line)\n",
    "            f.write('# sent_id = {}\\n'.format(s_id + 1))\n",
    "            f.write('# text = {}\\n'.format(sent_text))\n",
    "            f.write('\\n'.join(token_lines))\n",
    "            f.write('\\n\\n')"
   ]
  },
  {
   "cell_type": "code",
   "execution_count": 8,
   "metadata": {},
   "outputs": [],
   "source": [
    "write_conllu(sents, filename='lstm_tokenizer_output_v23.conllu')"
   ]
  },
  {
   "cell_type": "code",
   "execution_count": null,
   "metadata": {},
   "outputs": [],
   "source": []
  }
 ],
 "metadata": {
  "kernelspec": {
   "display_name": "Python 3",
   "language": "python",
   "name": "python3"
  },
  "language_info": {
   "codemirror_mode": {
    "name": "ipython",
    "version": 3
   },
   "file_extension": ".py",
   "mimetype": "text/x-python",
   "name": "python",
   "nbconvert_exporter": "python",
   "pygments_lexer": "ipython3",
   "version": "3.6.7"
  }
 },
 "nbformat": 4,
 "nbformat_minor": 2
}
